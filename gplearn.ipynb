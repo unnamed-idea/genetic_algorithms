{
 "cells": [
  {
   "cell_type": "code",
   "execution_count": null,
   "metadata": {},
   "outputs": [],
   "source": [
    "import gplearn\n",
    "from gplearn.genetic import SymbolicRegressor\n",
    "from sklearn.utils import check_random_state\n",
    "import numpy as np\n",
    "import graphviz\n",
    "import matplotlib.pyplot as plt"
   ]
  },
  {
   "cell_type": "code",
   "execution_count": 2,
   "metadata": {},
   "outputs": [],
   "source": [
    "x0 = np.arange(-1, 1, 0.1)\n",
    "x1 = np.arange(-1, 1, 0.1)\n"
   ]
  },
  {
   "cell_type": "markdown",
   "metadata": {},
   "source": [
    "# fitness: ((x1)^2*(x2)^2)+x2-1"
   ]
  },
  {
   "cell_type": "code",
   "execution_count": 8,
   "metadata": {},
   "outputs": [],
   "source": [
    "rng = check_random_state(0)\n",
    "\n",
    "x_train = rng.uniform(-100, 100, 150).reshape(50, 3)\n",
    "\n",
    "x1 = x_train[:, 0]\n",
    "x2 = x_train[:, 1]\n",
    "\n",
    "y_train = (x1**2)*(x2**2)+x1-1"
   ]
  },
  {
   "cell_type": "code",
   "execution_count": 9,
   "metadata": {},
   "outputs": [],
   "source": [
    "est_gp = SymbolicRegressor(population_size=5000,\n",
    "                                           generations=20,\n",
    "                                           stopping_criteria=0.01,\n",
    "                                           p_crossover=0.7,\n",
    "                                           p_subtree_mutation=0.1,\n",
    "                                           p_hoist_mutation=0.05,\n",
    "                                           p_point_mutation=0.1,\n",
    "                                           max_samples=0.9,\n",
    "                                           verbose=1,\n",
    "                                           parsimony_coefficient=0.01,\n",
    "                                           random_state=0\n",
    "                                           )\n"
   ]
  },
  {
   "cell_type": "code",
   "execution_count": 10,
   "metadata": {},
   "outputs": [
    {
     "name": "stdout",
     "output_type": "stream",
     "text": [
      "    |   Population Average    |             Best Individual              |\n",
      "---- ------------------------- ------------------------------------------ ----------\n",
      " Gen   Length          Fitness   Length          Fitness      OOB Fitness  Time Left\n",
      "   0    33.42      4.56456e+21        7          47.8234          56.2966      1.57m\n",
      "   1    28.64      2.29725e+07        9                1                1      1.20m\n",
      "   2    34.75      3.51066e+08        9                1                1      1.16m\n",
      "   3    47.12      1.03471e+11        9                1                1      1.15m\n",
      "   4    27.73      6.83775e+11       17      9.55657e-10      1.03028e-09     56.02s\n"
     ]
    },
    {
     "data": {
      "text/plain": [
       "SymbolicRegressor(const_range=(-1.0, 1.0), feature_names=None,\n",
       "                  function_set=('add', 'sub', 'mul', 'div'), generations=20,\n",
       "                  init_depth=(2, 6), init_method='half and half',\n",
       "                  low_memory=False, max_samples=0.9,\n",
       "                  metric='mean absolute error', n_jobs=1, p_crossover=0.7,\n",
       "                  p_hoist_mutation=0.05, p_point_mutation=0.1,\n",
       "                  p_point_replace=0.05, p_subtree_mutation=0.1,\n",
       "                  parsimony_coefficient=0.01, population_size=5000,\n",
       "                  random_state=0, stopping_criteria=0.01, tournament_size=20,\n",
       "                  verbose=1, warm_start=False)"
      ]
     },
     "execution_count": 10,
     "metadata": {},
     "output_type": "execute_result"
    }
   ],
   "source": [
    "est_gp.fit(x_train,y_train)\n"
   ]
  },
  {
   "cell_type": "markdown",
   "metadata": {},
   "source": [
    "# best fit function:"
   ]
  },
  {
   "cell_type": "code",
   "execution_count": 11,
   "metadata": {},
   "outputs": [
    {
     "name": "stdout",
     "output_type": "stream",
     "text": [
      "add(mul(mul(X0, X1), mul(X1, X0)), div(sub(X1, div(X0, X0)), div(X1, X1)))\n"
     ]
    }
   ],
   "source": [
    "print(est_gp._program)"
   ]
  },
  {
   "cell_type": "markdown",
   "metadata": {},
   "source": [
    "### we did not give the algorithm any real number, thus it created one by dividing x1 over x1!"
   ]
  }
 ],
 "metadata": {
  "anaconda-cloud": {},
  "kernelspec": {
   "display_name": "Python 3",
   "language": "python",
   "name": "python3"
  },
  "language_info": {
   "codemirror_mode": {
    "name": "ipython",
    "version": 3
   },
   "file_extension": ".py",
   "mimetype": "text/x-python",
   "name": "python",
   "nbconvert_exporter": "python",
   "pygments_lexer": "ipython3",
   "version": "3.6.2"
  }
 },
 "nbformat": 4,
 "nbformat_minor": 4
}
